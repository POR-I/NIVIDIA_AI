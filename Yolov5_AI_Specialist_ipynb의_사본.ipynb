{
  "nbformat": 4,
  "nbformat_minor": 0,
  "metadata": {
    "colab": {
      "private_outputs": true,
      "provenance": [],
      "machine_shape": "hm"
    },
    "kernelspec": {
      "name": "python3",
      "display_name": "Python 3"
    },
    "language_info": {
      "name": "python"
    }
  },
  "cells": [
    {
      "cell_type": "markdown",
      "source": [
        "# Yolo5 학습하기\n",
        "##1. 구글 드라이브 연동"
      ],
      "metadata": {
        "id": "q2T_7RXuXMk3"
      }
    },
    {
      "cell_type": "code",
      "execution_count": null,
      "metadata": {
        "id": "Oo7miJCyXFcN"
      },
      "outputs": [],
      "source": [
        "# prompt: 구글 드라이브랑 연결\n",
        "\n",
        "from google.colab import drive\n",
        "drive.flush_and_unmount()  # 기존 마운트 해제\n",
        "drive.mount('/content/drive')  # 다시 마운트"
      ]
    },
    {
      "cell_type": "code",
      "source": [
        "%cd /content/drive/MyDrive"
      ],
      "metadata": {
        "id": "PXogUGVQb-X_"
      },
      "execution_count": null,
      "outputs": []
    },
    {
      "cell_type": "code",
      "source": [
        "%pwd"
      ],
      "metadata": {
        "id": "yBRVOaQbcBUH"
      },
      "execution_count": null,
      "outputs": []
    },
    {
      "cell_type": "markdown",
      "source": [
        "# 2. Yolov5 설치"
      ],
      "metadata": {
        "id": "uqMISq3pdMFc"
      }
    },
    {
      "cell_type": "code",
      "source": [
        "# 기존에 설치를 완료한 경우에는 해당 경로로 이동만 하면 됩니다.\n",
        "%cd /content/drive/MyDrive/yolov5"
      ],
      "metadata": {
        "id": "4mR68g8Nc2Vs"
      },
      "execution_count": null,
      "outputs": []
    },
    {
      "cell_type": "code",
      "source": [
        "##\n",
        "#clone YOLOv5 and\n",
        "!git clone https://github.com/ultralytics/yolov5  # clone repo\n",
        "%cd yolov5\n",
        "%pip install -qr requirements.txt # install dependencies"
      ],
      "metadata": {
        "id": "MeTRnP5Rdoc4"
      },
      "execution_count": null,
      "outputs": []
    },
    {
      "cell_type": "code",
      "source": [
        "!pip install Pillow==10.3"
      ],
      "metadata": {
        "id": "qKn7oHQOel_0"
      },
      "execution_count": null,
      "outputs": []
    },
    {
      "cell_type": "markdown",
      "source": [
        "#"
      ],
      "metadata": {
        "id": "V7hs6w4geYvo"
      }
    },
    {
      "cell_type": "markdown",
      "source": [
        "# 3. 이미지 파일 관리"
      ],
      "metadata": {
        "id": "kG6i06Mde7T4"
      }
    },
    {
      "cell_type": "code",
      "source": [
        "!mkdir -p Train/labels\n",
        "!mkdir -p Train/images\n",
        "!mkdir -p Val/labels\n",
        "!mkdir -p Val/images\n"
      ],
      "metadata": {
        "id": "9WJEL-gIdyW8"
      },
      "execution_count": null,
      "outputs": []
    },
    {
      "cell_type": "code",
      "source": [
        "##검증 데이터 만들기\n",
        "import os\n",
        "import shutil\n",
        "from sklearn.model_selection import train_test_split\n",
        "\n",
        "def create_validation_set(train_path, val_path, split_ratio=0.3):\n",
        "    \"\"\"\n",
        "    Train 데이터의 일부를 Val로 이동\n",
        "    \"\"\"\n",
        "    # 필요한 디렉토리 생성\n",
        "    os.makedirs(os.path.join(val_path, 'images'), exist_ok=True)\n",
        "    os.makedirs(os.path.join(val_path, 'labels'), exist_ok=True)\n",
        "\n",
        "    # Train 이미지 리스트 가져오기\n",
        "    train_images = os.listdir(os.path.join(train_path, 'images'))\n",
        "    train_images = [f for f in train_images if f.endswith(('.jpg', '.jpeg', '.png'))]\n",
        "\n",
        "    # Train/Val 분할\n",
        "    _, val_images = train_test_split(train_images,\n",
        "                                   test_size=split_ratio,\n",
        "                                   random_state=42)\n",
        "\n",
        "    # Val로 파일 복사\n",
        "    for image_file in val_images:\n",
        "        # 이미지 복사\n",
        "        src_image = os.path.join(train_path, 'images', image_file)\n",
        "        dst_image = os.path.join(val_path, 'images', image_file)\n",
        "        shutil.copy2(src_image, dst_image)\n",
        "\n",
        "        # 라벨 파일 복사\n",
        "        label_file = os.path.splitext(image_file)[0] + '.txt'\n",
        "        src_label = os.path.join(train_path, 'labels', label_file)\n",
        "        dst_label = os.path.join(val_path, 'labels', label_file)\n",
        "        if os.path.exists(src_label):\n",
        "            shutil.copy2(src_label, dst_label)\n",
        "\n",
        "    print(f\"Created validation set with {len(val_images)} images\")\n",
        "\n",
        "# 실행\n",
        "train_path = '/content/drive/MyDrive/yolov5/Train'\n",
        "val_path = '/content/drive/MyDrive/yolov5/Val'\n",
        "\n",
        "create_validation_set(train_path, val_path)"
      ],
      "metadata": {
        "id": "_Qqy-G0hKZqc"
      },
      "execution_count": null,
      "outputs": []
    },
    {
      "cell_type": "code",
      "source": [
        "def check_dataset():\n",
        "    train_path = '/content/drive/MyDrive/yolov5/Train'\n",
        "    val_path = '/content/drive/MyDrive/yolov5/Val'\n",
        "\n",
        "    # Train 데이터 확인\n",
        "    train_images = len(os.listdir(os.path.join(train_path, 'images')))\n",
        "    train_labels = len(os.listdir(os.path.join(train_path, 'labels')))\n",
        "\n",
        "    # Val 데이터 확인\n",
        "    val_images = len(os.listdir(os.path.join(val_path, 'images')))\n",
        "    val_labels = len(os.listdir(os.path.join(val_path, 'labels')))\n",
        "\n",
        "    print(\"Dataset status:\")\n",
        "    print(f\"Train - Images: {train_images}, Labels: {train_labels}\")\n",
        "    print(f\"Val - Images: {val_images}, Labels: {val_labels}\")\n",
        "\n",
        "# 데이터셋 상태 확인\n",
        "check_dataset()"
      ],
      "metadata": {
        "id": "UlUtCxWVKkNW"
      },
      "execution_count": null,
      "outputs": []
    },
    {
      "cell_type": "markdown",
      "source": [
        "# 4. 학습시작"
      ],
      "metadata": {
        "id": "TXUrmEC8fHUc"
      }
    },
    {
      "cell_type": "code",
      "source": [
        "#필요 라이브러리 임포트하기\n",
        "import torch\n",
        "import os\n",
        "from IPython.display import Image, clear_output  # to display images"
      ],
      "metadata": {
        "id": "RSPNJnbZfGg0"
      },
      "execution_count": null,
      "outputs": []
    },
    {
      "cell_type": "code",
      "source": [
        "%pwd"
      ],
      "metadata": {
        "id": "h0tBhp5tmBQp"
      },
      "execution_count": null,
      "outputs": []
    },
    {
      "cell_type": "code",
      "source": [
        "import os\n",
        "import numpy as np\n",
        "from PIL import Image\n",
        "import tensorflow as tf\n",
        "from torch.utils.tensorboard import SummaryWriter\n",
        "import matplotlib.pyplot as plt\n",
        "\n",
        "def _preproc(image, output_height=640, output_width=640, resize_side=640):\n",
        "    h, w = image.shape[0], image.shape[1]\n",
        "    scale = tf.cond(tf.less(h, w), lambda: resize_side / h, lambda: resize_side / w)\n",
        "    resized_image = tf.compat.v1.image.resize_bilinear(tf.expand_dims(image, 0), [int(h * scale), int(w * scale)])\n",
        "    cropped_image = tf.compat.v1.image.resize_with_crop_or_pad(resized_image, output_height, output_width)\n",
        "    return tf.squeeze(cropped_image)\n",
        "\n",
        "def Create_npy(imagespath, imgsize, ext):\n",
        "    images_list = [img_name for img_name in os.listdir(imagespath) if\n",
        "                   os.path.splitext(img_name)[1].lower() == '.' + ext.lower()]\n",
        "    calib_dataset = np.zeros((len(images_list), imgsize, imgsize, 3), dtype=np.float32)\n",
        "\n",
        "    writer = SummaryWriter(log_dir='/content/drive/MyDrive/yolov5/runs/preprocessed_images')\n",
        "\n",
        "    for idx, img_name in enumerate(sorted(images_list)):\n",
        "        img_path = os.path.join(imagespath, img_name)\n",
        "        try:\n",
        "            if os.path.getsize(img_path) == 0:\n",
        "                print(f\"Error: {img_path} is empty.\")\n",
        "                continue\n",
        "\n",
        "            img = Image.open(img_path)\n",
        "            img = img.convert(\"RGB\")\n",
        "            img_np = np.array(img)\n",
        "\n",
        "            img_preproc = _preproc(img_np, imgsize, imgsize, imgsize)\n",
        "            calib_dataset[idx, :, :, :] = img_preproc.numpy().astype(np.uint8)\n",
        "\n",
        "            # 이미지 시각화\n",
        "            plt.imshow(img_preproc.numpy().astype(np.uint8))\n",
        "            plt.title(f\"Preprocessed Image: {img_name}\")\n",
        "            plt.axis(\"off\")\n",
        "\n",
        "            # TensorBoard에 기록\n",
        "            fig = plt.gcf()\n",
        "            writer.add_figure(f\"Preprocessed Image {idx}\", fig)\n",
        "            plt.close(fig)\n",
        "\n",
        "            print(f\"Processed image {img_path}\")\n",
        "\n",
        "        except Exception as e:\n",
        "            print(f\"Error processing image {img_path}: {e}\")\n",
        "\n",
        "    writer.close()\n",
        "    np.save('/content/drive/MyDrive/yolov5/runs/preprocessed_images/calib_set.npy', calib_dataset)\n",
        "\n",
        "# 실행 예시\n",
        "Create_npy('/content/drive/MyDrive/yolov5/Train/images', 640, 'png')\n"
      ],
      "metadata": {
        "id": "_Ft-IUuHaVAx"
      },
      "execution_count": null,
      "outputs": []
    },
    {
      "cell_type": "code",
      "source": [
        "# \"cannot identify image file\" 에러가 발생하는 경우, PILLOW Version을 \"!pip install Pillow==10.1\" 로 변경하여 설치합니다.\n",
        "Create_npy('/content/drive/MyDrive/yolov5/Train/images', 640, 'png')"
      ],
      "metadata": {
        "id": "y_p0-k-TfUpY",
        "collapsed": true
      },
      "execution_count": null,
      "outputs": []
    },
    {
      "cell_type": "code",
      "source": [
        "!pip uninstall -y wandb"
      ],
      "metadata": {
        "id": "dzedxEbCV1GS"
      },
      "execution_count": null,
      "outputs": []
    },
    {
      "cell_type": "code",
      "source": [
        "#모델 학습하기\n",
        "!python  /content/drive/MyDrive/yolov5/train.py  --img 640 --batch 16 --epochs 300 --data /content/drive/MyDrive/yolov5/data.yaml --weights yolov5n.pt --cache --patience 10  # 예: 10 에포크 동안 개선이 없으면 중단\n"
      ],
      "metadata": {
        "id": "Vs-AKm1YgA_r"
      },
      "execution_count": null,
      "outputs": []
    },
    {
      "cell_type": "code",
      "source": [
        "!pip install --upgrade Pillow\n"
      ],
      "metadata": {
        "id": "SKWZbAqRqCXa"
      },
      "execution_count": null,
      "outputs": []
    },
    {
      "cell_type": "code",
      "source": [
        "import torch\n",
        "import numpy as np\n",
        "import matplotlib.pyplot as plt\n",
        "from PIL import Image\n",
        "from torch.utils.tensorboard import SummaryWriter\n",
        "from matplotlib.patches import Rectangle\n",
        "\n",
        "def visualize_class_objects(image, boxes, class_labels, img_size=(640, 640)):\n",
        "    \"\"\"\n",
        "    이미지에서 바운딩 박스를 그려서 클래스별 객체를 시각화합니다.\n",
        "\n",
        "    :param image: 원본 이미지 (numpy 배열)\n",
        "    :param boxes: 바운딩 박스 좌표 (각 클래스별로)\n",
        "    :param class_labels: 클래스 레이블 (배열 형태)\n",
        "    :param img_size: 출력 이미지 크기\n",
        "    :return: 시각화된 이미지\n",
        "    \"\"\"\n",
        "    plt.figure(figsize=(10, 10))\n",
        "    plt.imshow(image)\n",
        "\n",
        "    for i, box in enumerate(boxes):\n",
        "        y_min, x_min, y_max, x_max = box\n",
        "        class_label = class_labels[i]\n",
        "        plt.gca().add_patch(Rectangle((x_min, y_min), x_max - x_min, y_max - y_min,\n",
        "                                      linewidth=2, edgecolor='r', facecolor='none'))\n",
        "        plt.text(x_min, y_min, str(class_label), color='r', fontsize=12)\n",
        "\n",
        "    plt.axis('off')\n",
        "    plt.close()\n",
        "\n",
        "    return np.array(plt.gcf())\n",
        "\n",
        "# YOLOv5 모델 불러오기\n",
        "def load_model(model_path='yolov5s.pt'):\n",
        "    model = torch.hub.load('ultralytics/yolov5', 'custom', path=model_path)\n",
        "    return model\n",
        "\n",
        "# 예측 및 시각화\n",
        "def predict_and_visualize(model, image_path, img_size=(512, 512)):\n",
        "    img = Image.open(image_path).convert(\"RGB\")\n",
        "    img_np = np.array(img)\n",
        "\n",
        "    # 모델 예측\n",
        "    results = model(img)\n",
        "    boxes = results.xyxy[0].numpy()  # 바운딩 박스 좌표 (x_min, y_min, x_max, y_max)\n",
        "    class_labels = results.names  # 클래스 이름\n",
        "\n",
        "    # 클래스 레이블 및 바운딩 박스를 이미지에 시각화\n",
        "    visualized_image = visualize_class_objects(img_np, boxes, class_labels)\n",
        "\n",
        "    # TensorBoard에 기록\n",
        "    writer = SummaryWriter(log_dir='/content/drive/MyDrive/yolov5/runs/inference')\n",
        "    writer.add_image('Predicted Image', visualized_image, global_step=0)\n",
        "    writer.close()\n",
        "\n",
        "    # 시각화된 이미지 반환\n",
        "    plt.imshow(visualized_image)\n",
        "    plt.title(\"Predicted Image\")\n",
        "    plt.axis(\"off\")\n",
        "    plt.show()\n",
        "\n",
        "# 모델 불러오기\n",
        "model = load_model('/content/drive/MyDrive/yolov5/runs/train/exp6/weights/best.pt')  # 학습한 모델 파일 경로\n",
        "\n",
        "# 예측 및 시각화 실행\n",
        "predict_and_visualize(model, '/content/drive/MyDrive/yolov5/Test/image.png')\n"
      ],
      "metadata": {
        "id": "OQOwMjFYn7LI"
      },
      "execution_count": null,
      "outputs": []
    },
    {
      "cell_type": "markdown",
      "source": [
        "# 5. yolov5모델 학습 결과 검증"
      ],
      "metadata": {
        "id": "_d1vBu6LgHRb"
      }
    },
    {
      "cell_type": "code",
      "source": [
        "!pkill -f \"tensorboard\"  # 모든 TensorBoard 프로세스를 종료"
      ],
      "metadata": {
        "id": "ZuCm2i8jXM4y"
      },
      "execution_count": null,
      "outputs": []
    },
    {
      "cell_type": "code",
      "source": [
        "# Start tensorboard\n",
        "# Launch after you have started training\n",
        "# logs save in the folder \"runs\"\n",
        "%load_ext tensorboard\n",
        "%tensorboard --logdir /content/drive/MyDrive/yolov5/runs/train/exp7"
      ],
      "metadata": {
        "id": "qwJiXyljgul0",
        "collapsed": true
      },
      "execution_count": null,
      "outputs": []
    },
    {
      "cell_type": "code",
      "source": [
        "!python /content/drive/MyDrive/yolov5/detect.py --weights /content/drive/MyDrive/yolov5/runs/train/exp4/weights/best.pt --img 640 --conf 0.1 --source /content/drive/MyDrive/yolov5/Train/images"
      ],
      "metadata": {
        "id": "LPLTdYMBg0jz",
        "collapsed": true
      },
      "execution_count": null,
      "outputs": []
    },
    {
      "cell_type": "code",
      "source": [
        "!pip install ultralytics"
      ],
      "metadata": {
        "id": "LN2bzhtQYBOO"
      },
      "execution_count": null,
      "outputs": []
    },
    {
      "cell_type": "code",
      "source": [
        "!python /content/drive/MyDrive/yolov5/detect.py --weights /content/drive/MyDrive/yolov5/runs/train/exp4/weights/best.pt --img 640 --conf 0.1 --source /content/drive/MyDrive/yolov5/Train/숏.mp4"
      ],
      "metadata": {
        "id": "D8tG7C3TKGPZ",
        "collapsed": true
      },
      "execution_count": null,
      "outputs": []
    },
    {
      "cell_type": "code",
      "source": [
        "#display inference on ALL test images\n",
        "\n",
        "import glob\n",
        "from IPython.display import Image, display\n",
        "\n",
        "for imageName in glob.glob('/content/drive/MyDrive/yolov5/yolov5/runs/detect/exp11/*.png')[:10]: #이미지 파일 형식에 맞춰 .png 또는 .jpg 등으로 수정\n",
        "    display(Image(filename=imageName))\n",
        "    print(\"\\n\")"
      ],
      "metadata": {
        "id": "meg9huXng6to"
      },
      "execution_count": null,
      "outputs": []
    }
  ]
}
